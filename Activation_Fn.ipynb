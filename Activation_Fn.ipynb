{
 "cells": [
  {
   "cell_type": "markdown",
   "id": "96618674-6680-473c-a492-fb9590cad905",
   "metadata": {},
   "source": [
    "## Sigmoid --Ranges between 0 and 1"
   ]
  },
  {
   "cell_type": "code",
   "execution_count": 1,
   "id": "dd0a423d-2140-46a3-9f6e-ff713e3e7841",
   "metadata": {},
   "outputs": [],
   "source": [
    "import math"
   ]
  },
  {
   "cell_type": "code",
   "execution_count": 6,
   "id": "3237cec5-a1ea-4fbb-865e-c4fbd93756a6",
   "metadata": {},
   "outputs": [],
   "source": [
    "def sig(x):\n",
    "    return 1/(1+math.exp(-x))"
   ]
  },
  {
   "cell_type": "code",
   "execution_count": 7,
   "id": "933396f5-e191-49a3-8521-e4bb4e5011e7",
   "metadata": {},
   "outputs": [
    {
     "data": {
      "text/plain": [
       "0.9999999999999982"
      ]
     },
     "execution_count": 7,
     "metadata": {},
     "output_type": "execute_result"
    }
   ],
   "source": [
    "sig(34)"
   ]
  },
  {
   "cell_type": "code",
   "execution_count": 8,
   "id": "92d59077-42f9-49f8-91a8-937f0ba7c2b7",
   "metadata": {},
   "outputs": [
    {
     "data": {
      "text/plain": [
       "1.71390843154201e-15"
      ]
     },
     "execution_count": 8,
     "metadata": {},
     "output_type": "execute_result"
    }
   ],
   "source": [
    "sig(-34)"
   ]
  },
  {
   "cell_type": "code",
   "execution_count": 9,
   "id": "5be21905-be2b-4247-9418-d7dd094f8503",
   "metadata": {},
   "outputs": [
    {
     "data": {
      "text/plain": [
       "0.7310585786300049"
      ]
     },
     "execution_count": 9,
     "metadata": {},
     "output_type": "execute_result"
    }
   ],
   "source": [
    "sig(1)"
   ]
  },
  {
   "cell_type": "markdown",
   "id": "3546351c-ceba-4292-b6ed-aeef85bbf417",
   "metadata": {},
   "source": [
    "## tanh --Ranges between -1 and 1"
   ]
  },
  {
   "cell_type": "code",
   "execution_count": 16,
   "id": "9ba46445-f9a8-4696-b3ce-69b5dd645199",
   "metadata": {},
   "outputs": [],
   "source": [
    "def tanhh(x):\n",
    "    return (math.exp(x)-math.exp(-x))/(math.exp(x)+math.exp(-x))"
   ]
  },
  {
   "cell_type": "code",
   "execution_count": 17,
   "id": "c1c2881f-2d7d-4871-b80c-7f035461fd26",
   "metadata": {},
   "outputs": [
    {
     "data": {
      "text/plain": [
       "-1.0"
      ]
     },
     "execution_count": 17,
     "metadata": {},
     "output_type": "execute_result"
    }
   ],
   "source": [
    "tanhh(-56)"
   ]
  },
  {
   "cell_type": "code",
   "execution_count": 18,
   "id": "a89fde85-ace7-429d-9588-3f856d9a95fc",
   "metadata": {},
   "outputs": [
    {
     "data": {
      "text/plain": [
       "1.0"
      ]
     },
     "execution_count": 18,
     "metadata": {},
     "output_type": "execute_result"
    }
   ],
   "source": [
    "tanhh(50)"
   ]
  },
  {
   "cell_type": "code",
   "execution_count": 19,
   "id": "b2eaab0d-a77d-4a24-bbc6-7f47847397fb",
   "metadata": {},
   "outputs": [
    {
     "data": {
      "text/plain": [
       "0.7615941559557649"
      ]
     },
     "execution_count": 19,
     "metadata": {},
     "output_type": "execute_result"
    }
   ],
   "source": [
    "tanhh(1)"
   ]
  },
  {
   "cell_type": "markdown",
   "id": "fa9444c9-3bda-454c-806e-fa92e42d57ab",
   "metadata": {},
   "source": [
    "## Relu-- Ranges between 0 and x"
   ]
  },
  {
   "cell_type": "code",
   "execution_count": 20,
   "id": "183624c9-53c0-4af1-8ebb-0394ce0e628b",
   "metadata": {},
   "outputs": [],
   "source": [
    "def RELU(x):\n",
    "    return max(0,x)"
   ]
  },
  {
   "cell_type": "code",
   "execution_count": 21,
   "id": "27a52d35-0d1a-4660-9f8f-3aa57c98eff1",
   "metadata": {},
   "outputs": [
    {
     "data": {
      "text/plain": [
       "0"
      ]
     },
     "execution_count": 21,
     "metadata": {},
     "output_type": "execute_result"
    }
   ],
   "source": [
    "RELU(-100)"
   ]
  },
  {
   "cell_type": "code",
   "execution_count": 22,
   "id": "fcc08f81-f11c-4661-8014-7cc12b567b44",
   "metadata": {},
   "outputs": [
    {
     "data": {
      "text/plain": [
       "8"
      ]
     },
     "execution_count": 22,
     "metadata": {},
     "output_type": "execute_result"
    }
   ],
   "source": [
    "RELU(8)"
   ]
  },
  {
   "cell_type": "markdown",
   "id": "5112e89e-24cb-4807-ba0f-743a102dbe36",
   "metadata": {},
   "source": [
    "## Leaky Relu-- Ranges between 0.1x and x"
   ]
  },
  {
   "cell_type": "code",
   "execution_count": 23,
   "id": "74d5513e-1dbb-4ff2-b5a6-f49d09ecad87",
   "metadata": {},
   "outputs": [],
   "source": [
    "def leaky(x):\n",
    "    return max(0.1*x,x)"
   ]
  },
  {
   "cell_type": "code",
   "execution_count": 24,
   "id": "710bd9ac-cf46-4018-b732-6c75280ea47e",
   "metadata": {},
   "outputs": [
    {
     "data": {
      "text/plain": [
       "-10.0"
      ]
     },
     "execution_count": 24,
     "metadata": {},
     "output_type": "execute_result"
    }
   ],
   "source": [
    "leaky(-100)"
   ]
  },
  {
   "cell_type": "code",
   "execution_count": 25,
   "id": "068bdc09-4250-46f6-a98b-0f255ccd6dd0",
   "metadata": {},
   "outputs": [
    {
     "data": {
      "text/plain": [
       "8"
      ]
     },
     "execution_count": 25,
     "metadata": {},
     "output_type": "execute_result"
    }
   ],
   "source": [
    "leaky(8)"
   ]
  },
  {
   "cell_type": "code",
   "execution_count": null,
   "id": "75e9421d-c628-47df-b035-a371ab5fcfba",
   "metadata": {},
   "outputs": [],
   "source": []
  },
  {
   "cell_type": "code",
   "execution_count": null,
   "id": "46b76ade-5f41-4431-ad00-258e3e2a47f9",
   "metadata": {},
   "outputs": [],
   "source": []
  },
  {
   "cell_type": "code",
   "execution_count": null,
   "id": "ed462686-322d-4bef-b7bc-848c4d1e91a1",
   "metadata": {},
   "outputs": [],
   "source": []
  },
  {
   "cell_type": "code",
   "execution_count": null,
   "id": "5d060329-8a29-46c1-b8e9-d08885e2756f",
   "metadata": {},
   "outputs": [],
   "source": []
  }
 ],
 "metadata": {
  "kernelspec": {
   "display_name": "Python 3",
   "language": "python",
   "name": "python3"
  },
  "language_info": {
   "codemirror_mode": {
    "name": "ipython",
    "version": 3
   },
   "file_extension": ".py",
   "mimetype": "text/x-python",
   "name": "python",
   "nbconvert_exporter": "python",
   "pygments_lexer": "ipython3",
   "version": "3.8.8"
  }
 },
 "nbformat": 4,
 "nbformat_minor": 5
}
